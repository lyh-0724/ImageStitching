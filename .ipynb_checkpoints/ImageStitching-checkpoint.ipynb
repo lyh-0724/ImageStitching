{
 "cells": [
  {
   "cell_type": "code",
   "execution_count": 5,
   "id": "66cde0bf-e567-4141-8a03-0c76d10ec140",
   "metadata": {},
   "outputs": [],
   "source": [
    "# 图像拼接\n",
    "import cv2 as cv\n",
    "import numpy as np\n",
    "import matplotlib.pyplot as plt"
   ]
  },
  {
   "cell_type": "code",
   "execution_count": 6,
   "id": "19dad333-1f91-4443-b102-b9b299a68640",
   "metadata": {},
   "outputs": [
    {
     "ename": "AttributeError",
     "evalue": "'NoneType' object has no attribute 'shape'",
     "output_type": "error",
     "traceback": [
      "\u001b[1;31m---------------------------------------------------------------------------\u001b[0m",
      "\u001b[1;31mAttributeError\u001b[0m                            Traceback (most recent call last)",
      "Cell \u001b[1;32mIn[6], line 6\u001b[0m\n\u001b[0;32m      4\u001b[0m img2 \u001b[38;5;241m=\u001b[39m cv\u001b[38;5;241m.\u001b[39mimread(\u001b[38;5;124m'\u001b[39m\u001b[38;5;124mjm2.jpg\u001b[39m\u001b[38;5;124m'\u001b[39m)\n\u001b[0;32m      5\u001b[0m \u001b[38;5;66;03m# 统一图像大小\u001b[39;00m\n\u001b[1;32m----> 6\u001b[0m height1 \u001b[38;5;241m=\u001b[39m \u001b[38;5;28mint\u001b[39m(img1\u001b[38;5;241m.\u001b[39mshape[\u001b[38;5;241m0\u001b[39m])\n\u001b[0;32m      7\u001b[0m width1 \u001b[38;5;241m=\u001b[39m \u001b[38;5;28mint\u001b[39m(img1\u001b[38;5;241m.\u001b[39mshape[\u001b[38;5;241m1\u001b[39m])\n\u001b[0;32m      8\u001b[0m dim \u001b[38;5;241m=\u001b[39m (width1, height1)\n",
      "\u001b[1;31mAttributeError\u001b[0m: 'NoneType' object has no attribute 'shape'"
     ]
    }
   ],
   "source": [
    "# 读取待拼接图像\n",
    "MIN = 10\n",
    "img1 = cv.imread('data/img1-left.jpg.jpg')\n",
    "img2 = cv.imread('data/img1-right.jpg')\n",
    "# 统一图像大小\n",
    "height1 = int(img1.shape[0])\n",
    "width1 = int(img1.shape[1])\n",
    "dim = (width1, height1)\n",
    "img2 = cv.resize(img2, dim, interpolation=cv.INTER_AREA)"
   ]
  },
  {
   "cell_type": "code",
   "execution_count": null,
   "id": "199cc0d2-968d-4e21-8897-d0dac54e9555",
   "metadata": {},
   "outputs": [],
   "source": [
    "# 创建SIFT特征点检测\n",
    "sift = cv.SIFT_create()"
   ]
  },
  {
   "cell_type": "code",
   "execution_count": null,
   "id": "901487c0-b2df-4128-b59f-f89c23ea4c6b",
   "metadata": {},
   "outputs": [],
   "source": [
    "# 检测兴趣点并计算描述子\n",
    "kp1, describe1 = sift.detectAndCompute(img1, None)\n",
    "kp2, describe2 = sift.detectAndCompute(img2, None)"
   ]
  },
  {
   "cell_type": "code",
   "execution_count": null,
   "id": "f526c551-ba17-4b09-afd1-a63adc052f38",
   "metadata": {},
   "outputs": [],
   "source": [
    "# 使用OpenCV中的FLANN匹配算法进行特征匹配，并返回最近邻和次近邻匹配的结果\n",
    "FLANN_INDEX_KDTREE = 0\n",
    "indexParams = dict(algorithm=FLANN_INDEX_KDTREE, trees=5)\n",
    "searchParams = dict(checks=50)\n",
    "flann = cv.FlannBasedMatcher(indexParams,searchParams)\n",
    "matches = flann.knnMatch(describe1, describe2, k=2)"
   ]
  },
  {
   "cell_type": "code",
   "execution_count": null,
   "id": "18cd278f-c457-489c-967d-1d7eb6d2b3c8",
   "metadata": {},
   "outputs": [],
   "source": [
    "\n",
    "# 储存特征匹配最好的优质匹配点对\n",
    "'''基于距离阈值选择优质匹配点对，如果最近邻m的距离小于0.65倍的次近邻n的距离，\n",
    "则认为这个匹配点对是优质的，将它存储在good列表中。'''\n",
    "good = []\n",
    "for m,n in matches:\n",
    "    if m.distance < 0.65 * n.distance:\n",
    "        good.append(m)"
   ]
  },
  {
   "cell_type": "code",
   "execution_count": null,
   "id": "6d68104e-50c2-4426-ab3f-3905132290a1",
   "metadata": {},
   "outputs": [],
   "source": [
    "# 可视化特征匹配结果,并保存\n",
    "pic3 = cv.drawMatches(img1=img1, keypoints1=kp1, img2=img2, keypoints2=kp2, matches1to2=good, outImg=None)\n",
    "cv.imwrite(r'/Users/xionglulu/Downloads/project1/m11.jpg', pic3)"
   ]
  },
  {
   "cell_type": "code",
   "execution_count": null,
   "id": "9f3f2b5d-7808-482b-ba5c-56098d151eb0",
   "metadata": {},
   "outputs": [],
   "source": [
    "# RANSAC算法计算单应性矩阵\n",
    "if len(good) > MIN:\n",
    "    src_pts = np.float32([kp1[m.queryIdx].pt for m in good]).reshape(-1, 1, 2)\n",
    "    tge_pts = np.float32([kp2[m.trainIdx].pt for m in good]).reshape(-1, 1, 2)\n",
    "    M, mask = cv.findHomography(src_pts, tge_pts, cv.RANSAC, 2)\n",
    "    # 源图像img2图像扭曲（透视变换）\n",
    "    warpimg = cv.warpPerspective(img2, np.linalg.inv(M), (img1.shape[1] + img2.shape[1], img2.shape[0]))\n",
    "    cv.namedWindow(\"warpimg\", cv.WINDOW_NORMAL)\n",
    "    cv.imshow('warpimg',warpimg)\n",
    "    # 拼接图像\n",
    "    direct = warpimg.copy()\n",
    "    direct[0:img1.shape[0], 0:img1.shape[1]] = img1\n",
    "    rows, cols = img1.shape[:2]\n",
    " \n",
    "    left = 0\n",
    "    right = cols\n",
    "    # 找到img1和warpimg重叠的最左边界\n",
    "    for col in range(0, cols):\n",
    "        if img1[:, col].any() and warpimg[:, col].any():\n",
    "            left = col\n",
    "        break\n",
    "    # 找到img1和warpimg重叠的最右边界\n",
    "    for col in range(cols - 1, 0, -1):\n",
    "        if img1[:, col].any() and warpimg[:, col].any():\n",
    "            right = col\n",
    "        break\n",
    "    # 图像融合\n",
    "    res = np.zeros([rows, cols, 3], np.uint8)\n",
    " \n",
    "    for row in range(0, rows):\n",
    "        for col in range(0, cols):\n",
    "            if not img1[row, col].any():\n",
    "                res[row, col] = warpimg[row, col]\n",
    "            elif not warpimg[row, col].any():\n",
    "                res[row, col] = img1[row, col]\n",
    "            else:\n",
    "                # 重叠部分加权平均\n",
    "                srcimgLen = float(abs(col - left))\n",
    "                testimgLen = float(abs(col - right))\n",
    "                alpha = srcimgLen / (srcimgLen + testimgLen)\n",
    "                res[row, col] = np.clip(img1[row, col] * (1 - alpha) + warpimg[row, col] * alpha, 0, 255)\n",
    " \n",
    " \n",
    "    warpimg[0:img1.shape[0], 0:img1.shape[1]] = res\n",
    "    img3 = cv.cvtColor(direct, cv.COLOR_BGR2RGB)\n",
    "    plt.imshow(img3), plt.show()\n",
    "    img4 = cv.cvtColor(warpimg, cv.COLOR_BGR2RGB)\n",
    "    plt.imshow(img4), plt.show()\n",
    "    cv.waitKey()\n",
    "    cv.destroyAllWindows()\n",
    " \n",
    "else:\n",
    "    print(\"not enough matches!\")"
   ]
  }
 ],
 "metadata": {
  "kernelspec": {
   "display_name": "Python 3 (ipykernel)",
   "language": "python",
   "name": "python3"
  },
  "language_info": {
   "codemirror_mode": {
    "name": "ipython",
    "version": 3
   },
   "file_extension": ".py",
   "mimetype": "text/x-python",
   "name": "python",
   "nbconvert_exporter": "python",
   "pygments_lexer": "ipython3",
   "version": "3.11.7"
  }
 },
 "nbformat": 4,
 "nbformat_minor": 5
}
