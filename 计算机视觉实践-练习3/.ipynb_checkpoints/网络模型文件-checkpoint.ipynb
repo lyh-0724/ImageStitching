{
 "cells": [
  {
   "cell_type": "raw",
   "id": "60597b70-f3ea-4954-95ce-4f7fe4f781aa",
   "metadata": {},
   "source": [
    "生成器模型类"
   ]
  },
  {
   "cell_type": "code",
   "execution_count": null,
   "id": "3a9dfb39-968c-478e-bcba-6a0c08d7f6d3",
   "metadata": {},
   "outputs": [],
   "source": [
    "import math\n",
    "import torch\n",
    "from torch import nn\n",
    "\n",
    "# 生成器模型\n",
    "class Generator(nn.Module):\n",
    "    def __init__(self, scale_factor):\n",
    "        # 计算需要进行上采样的块的数量\n",
    "        upsample_block_num = int(math.log(scale_factor, 2))\n",
    "\n",
    "        super(Generator, self).__init__()\n",
    "        # 二维卷积层，输入通道数为3，输出通道数为64，卷积核大小为9，填充为4\n",
    "        self.block1 = nn.Sequential(\n",
    "            nn.Conv2d(3, 64, kernel_size=9, padding=4),\n",
    "            nn.PReLU()  # Parametric ReLU激活函数\n",
    "        )\n",
    "        self.block2 = ResidualBlock(64) # 定义(残差)ResidualBlock模块\n",
    "        self.block3 = ResidualBlock(64)\n",
    "        self.block4 = ResidualBlock(64)\n",
    "        self.block5 = ResidualBlock(64)\n",
    "        self.block6 = ResidualBlock(64)\n",
    "        self.block7 = nn.Sequential(\n",
    "            nn.Conv2d(64, 64, kernel_size=3, padding=1),\n",
    "            nn.BatchNorm2d(64)\n",
    "        )\n",
    "        # 由多个UpsampleBlock模块组成的列表\n",
    "        block8 = [UpsampleBLock(64, 2) for _ in range(upsample_block_num)]\n",
    "        block8.append(nn.Conv2d(64, 3, kernel_size=9, padding=4))\n",
    "        self.block8 = nn.Sequential(*block8)  # 由block8列表中的模块组成的序列模块\n",
    "\n",
    "    def forward(self, x):\n",
    "        block1 = self.block1(x)\n",
    "        block2 = self.block2(block1)\n",
    "        block3 = self.block3(block2)\n",
    "        block4 = self.block4(block3)\n",
    "        block5 = self.block5(block4)\n",
    "        block6 = self.block6(block5)\n",
    "        block7 = self.block7(block6)\n",
    "        block8 = self.block8(block1 + block7)\n",
    "\n",
    "        # 将输出限制在0到1之间，通过tanh激活函数和缩放操作得到最终生成的图像\n",
    "        return (torch.tanh(block8) + 1) / 2\n",
    "\n"
   ]
  },
  {
   "cell_type": "raw",
   "id": "6980cf64-97e9-4f90-8299-009d38e85ee8",
   "metadata": {},
   "source": [
    "判别器模型类"
   ]
  },
  {
   "cell_type": "code",
   "execution_count": null,
   "id": "4f2438c9-56e3-4619-b424-8f7cbdced15f",
   "metadata": {},
   "outputs": [],
   "source": [
    "class Discriminator(nn.Module):\n",
    "    def __init__(self):\n",
    "        super(Discriminator, self).__init__()\n",
    "        self.net = nn.Sequential(\n",
    "            # 二维卷积层，输入通道数为3，输出通道数为64，卷积核大小为3，填充为1\n",
    "            nn.Conv2d(3, 64, kernel_size=3, padding=1),\n",
    "            nn.LeakyReLU(0.2),  # LeakyReLU激活函数\n",
    "\n",
    "            nn.Conv2d(64, 64, kernel_size=3, stride=2, padding=1),\n",
    "            nn.BatchNorm2d(64),\n",
    "            nn.LeakyReLU(0.2),\n",
    "\n",
    "            nn.Conv2d(64, 128, kernel_size=3, padding=1),\n",
    "            nn.BatchNorm2d(128),\n",
    "            nn.LeakyReLU(0.2),\n",
    "\n",
    "            nn.Conv2d(128, 128, kernel_size=3, stride=2, padding=1),\n",
    "            nn.BatchNorm2d(128),\n",
    "            nn.LeakyReLU(0.2),\n",
    "\n",
    "            nn.Conv2d(128, 256, kernel_size=3, padding=1),\n",
    "            nn.BatchNorm2d(256),\n",
    "            nn.LeakyReLU(0.2),\n",
    "\n",
    "            nn.Conv2d(256, 256, kernel_size=3, stride=2, padding=1),\n",
    "            nn.BatchNorm2d(256),\n",
    "            nn.LeakyReLU(0.2),\n",
    "\n",
    "            nn.Conv2d(256, 512, kernel_size=3, padding=1),\n",
    "            nn.BatchNorm2d(512),\n",
    "            nn.LeakyReLU(0.2),\n",
    "\n",
    "            nn.Conv2d(512, 512, kernel_size=3, stride=2, padding=1),\n",
    "            nn.BatchNorm2d(512),\n",
    "            nn.LeakyReLU(0.2),\n",
    "\n",
    "            # 自适应平均池化层，将输入特征图转换为大小为1x1的特征图\n",
    "            nn.AdaptiveAvgPool2d(1),\n",
    "            nn.Conv2d(512, 1024, kernel_size=1),\n",
    "            nn.LeakyReLU(0.2),\n",
    "            nn.Conv2d(1024, 1, kernel_size=1)\n",
    "        )\n",
    "\n",
    "    def forward(self, x):\n",
    "        # 输入批次的大小\n",
    "        batch_size = x.size(0)\n",
    "        # 使用torch.sigmoid函数将特征图映射到0到1之间，表示输入图像为真实图像的概率。\n",
    "        return torch.sigmoid(self.net(x).view(batch_size))\n"
   ]
  },
  {
   "cell_type": "raw",
   "id": "2f9e93ca-31ac-4641-b920-d784e910410a",
   "metadata": {},
   "source": [
    "残差块模型类"
   ]
  },
  {
   "cell_type": "code",
   "execution_count": null,
   "id": "c91c9bd0-7a53-4ec9-9f86-7bbc795d1dc4",
   "metadata": {},
   "outputs": [],
   "source": [
    "class ResidualBlock(nn.Module):\n",
    "    def __init__(self, channels):\n",
    "        super(ResidualBlock, self).__init__()\n",
    "        # 二维卷积层，输入通道数为channels，输出通道数为channels，卷积核大小为3，填充为1\n",
    "        self.conv1 = nn.Conv2d(channels, channels, kernel_size=3, padding=1)\n",
    "        self.bn1 = nn.BatchNorm2d(channels)  # 二维批归一化层\n",
    "        self.prelu = nn.PReLU()  # Parametric ReLU激活函数\n",
    "        self.conv2 = nn.Conv2d(channels, channels, kernel_size=3, padding=1)\n",
    "        self.bn2 = nn.BatchNorm2d(channels)  # 二维批归一化层\n",
    "\n",
    "    def forward(self, x):\n",
    "        # 应用对应的layer得到前向传播的输出(残差项)\n",
    "        residual = self.conv1(x)\n",
    "        residual = self.bn1(residual)\n",
    "        residual = self.prelu(residual)\n",
    "        residual = self.conv2(residual)\n",
    "        residual = self.bn2(residual)\n",
    "\n",
    "        return x + residual  # 将输入x与残差项相加，得到最终输出\n",
    "\n"
   ]
  },
  {
   "cell_type": "raw",
   "id": "c410719e-f0b5-43e7-9ead-899f7ef5153b",
   "metadata": {},
   "source": [
    "上采样块类"
   ]
  },
  {
   "cell_type": "code",
   "execution_count": null,
   "id": "5c3ad715-1f2e-407d-b815-d7e9a0037f8a",
   "metadata": {},
   "outputs": [],
   "source": [
    "# 上采样块\n",
    "class UpsampleBLock(nn.Module):\n",
    "    def __init__(self, in_channels, up_scale):\n",
    "        super(UpsampleBLock, self).__init__()\n",
    "        # 卷积层，输入通道数为in_channels，输出通道数为in_channels * 2 ** 2，卷积核大小为3，填充为1\n",
    "        self.conv = nn.Conv2d(in_channels, in_channels * up_scale ** 2, kernel_size=3, padding=1)\n",
    "        # 像素重排操作，上采样因子为up_scale\n",
    "        self.pixel_shuffle = nn.PixelShuffle(up_scale)\n",
    "        self.prelu = nn.PReLU()\n",
    "\n",
    "    def forward(self, x):\n",
    "        x = self.conv(x)\n",
    "        x = self.pixel_shuffle(x)\n",
    "        x = self.prelu(x)\n",
    "        return x"
   ]
  }
 ],
 "metadata": {
  "kernelspec": {
   "display_name": "Python 3 (ipykernel)",
   "language": "python",
   "name": "python3"
  },
  "language_info": {
   "codemirror_mode": {
    "name": "ipython",
    "version": 3
   },
   "file_extension": ".py",
   "mimetype": "text/x-python",
   "name": "python",
   "nbconvert_exporter": "python",
   "pygments_lexer": "ipython3",
   "version": "3.11.7"
  }
 },
 "nbformat": 4,
 "nbformat_minor": 5
}
